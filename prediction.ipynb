{
 "cells": [
  {
   "cell_type": "code",
   "execution_count": 14,
   "metadata": {},
   "outputs": [],
   "source": [
    "# Step 1: Import Libraries and Load the Model\n",
    "import numpy as np\n",
    "import tensorflow as tf\n",
    "from tensorflow.keras.datasets import imdb\n",
    "from tensorflow.keras.preprocessing import sequence\n",
    "from tensorflow.keras.models import load_model"
   ]
  },
  {
   "cell_type": "code",
   "execution_count": 15,
   "metadata": {},
   "outputs": [],
   "source": [
    "\n",
    "# Load the IMDB dataset word index\n",
    "word_index = imdb.get_word_index()\n",
    "reverse_word_index = {value: key for key, value in word_index.items()}"
   ]
  },
  {
   "cell_type": "code",
   "execution_count": 16,
   "metadata": {},
   "outputs": [
    {
     "name": "stderr",
     "output_type": "stream",
     "text": [
      "WARNING:absl:Compiled the loaded model, but the compiled metrics have yet to be built. `model.compile_metrics` will be empty until you train or evaluate the model.\n"
     ]
    },
    {
     "data": {
      "text/html": [
       "<pre style=\"white-space:pre;overflow-x:auto;line-height:normal;font-family:Menlo,'DejaVu Sans Mono',consolas,'Courier New',monospace\"><span style=\"font-weight: bold\">Model: \"sequential_6\"</span>\n",
       "</pre>\n"
      ],
      "text/plain": [
       "\u001b[1mModel: \"sequential_6\"\u001b[0m\n"
      ]
     },
     "metadata": {},
     "output_type": "display_data"
    },
    {
     "data": {
      "text/html": [
       "<pre style=\"white-space:pre;overflow-x:auto;line-height:normal;font-family:Menlo,'DejaVu Sans Mono',consolas,'Courier New',monospace\">┏━━━━━━━━━━━━━━━━━━━━━━━━━━━━━━━━━┳━━━━━━━━━━━━━━━━━━━━━━━━┳━━━━━━━━━━━━━━━┓\n",
       "┃<span style=\"font-weight: bold\"> Layer (type)                    </span>┃<span style=\"font-weight: bold\"> Output Shape           </span>┃<span style=\"font-weight: bold\">       Param # </span>┃\n",
       "┡━━━━━━━━━━━━━━━━━━━━━━━━━━━━━━━━━╇━━━━━━━━━━━━━━━━━━━━━━━━╇━━━━━━━━━━━━━━━┩\n",
       "│ embedding_6 (<span style=\"color: #0087ff; text-decoration-color: #0087ff\">Embedding</span>)         │ (<span style=\"color: #00af00; text-decoration-color: #00af00\">32</span>, <span style=\"color: #00af00; text-decoration-color: #00af00\">500</span>, <span style=\"color: #00af00; text-decoration-color: #00af00\">128</span>)         │     <span style=\"color: #00af00; text-decoration-color: #00af00\">1,280,000</span> │\n",
       "├─────────────────────────────────┼────────────────────────┼───────────────┤\n",
       "│ simple_rnn_8 (<span style=\"color: #0087ff; text-decoration-color: #0087ff\">SimpleRNN</span>)        │ (<span style=\"color: #00af00; text-decoration-color: #00af00\">32</span>, <span style=\"color: #00af00; text-decoration-color: #00af00\">128</span>)              │        <span style=\"color: #00af00; text-decoration-color: #00af00\">32,896</span> │\n",
       "├─────────────────────────────────┼────────────────────────┼───────────────┤\n",
       "│ dense_6 (<span style=\"color: #0087ff; text-decoration-color: #0087ff\">Dense</span>)                 │ (<span style=\"color: #00af00; text-decoration-color: #00af00\">32</span>, <span style=\"color: #00af00; text-decoration-color: #00af00\">1</span>)                │           <span style=\"color: #00af00; text-decoration-color: #00af00\">129</span> │\n",
       "└─────────────────────────────────┴────────────────────────┴───────────────┘\n",
       "</pre>\n"
      ],
      "text/plain": [
       "┏━━━━━━━━━━━━━━━━━━━━━━━━━━━━━━━━━┳━━━━━━━━━━━━━━━━━━━━━━━━┳━━━━━━━━━━━━━━━┓\n",
       "┃\u001b[1m \u001b[0m\u001b[1mLayer (type)                   \u001b[0m\u001b[1m \u001b[0m┃\u001b[1m \u001b[0m\u001b[1mOutput Shape          \u001b[0m\u001b[1m \u001b[0m┃\u001b[1m \u001b[0m\u001b[1m      Param #\u001b[0m\u001b[1m \u001b[0m┃\n",
       "┡━━━━━━━━━━━━━━━━━━━━━━━━━━━━━━━━━╇━━━━━━━━━━━━━━━━━━━━━━━━╇━━━━━━━━━━━━━━━┩\n",
       "│ embedding_6 (\u001b[38;5;33mEmbedding\u001b[0m)         │ (\u001b[38;5;34m32\u001b[0m, \u001b[38;5;34m500\u001b[0m, \u001b[38;5;34m128\u001b[0m)         │     \u001b[38;5;34m1,280,000\u001b[0m │\n",
       "├─────────────────────────────────┼────────────────────────┼───────────────┤\n",
       "│ simple_rnn_8 (\u001b[38;5;33mSimpleRNN\u001b[0m)        │ (\u001b[38;5;34m32\u001b[0m, \u001b[38;5;34m128\u001b[0m)              │        \u001b[38;5;34m32,896\u001b[0m │\n",
       "├─────────────────────────────────┼────────────────────────┼───────────────┤\n",
       "│ dense_6 (\u001b[38;5;33mDense\u001b[0m)                 │ (\u001b[38;5;34m32\u001b[0m, \u001b[38;5;34m1\u001b[0m)                │           \u001b[38;5;34m129\u001b[0m │\n",
       "└─────────────────────────────────┴────────────────────────┴───────────────┘\n"
      ]
     },
     "metadata": {},
     "output_type": "display_data"
    },
    {
     "data": {
      "text/html": [
       "<pre style=\"white-space:pre;overflow-x:auto;line-height:normal;font-family:Menlo,'DejaVu Sans Mono',consolas,'Courier New',monospace\"><span style=\"font-weight: bold\"> Total params: </span><span style=\"color: #00af00; text-decoration-color: #00af00\">1,313,027</span> (5.01 MB)\n",
       "</pre>\n"
      ],
      "text/plain": [
       "\u001b[1m Total params: \u001b[0m\u001b[38;5;34m1,313,027\u001b[0m (5.01 MB)\n"
      ]
     },
     "metadata": {},
     "output_type": "display_data"
    },
    {
     "data": {
      "text/html": [
       "<pre style=\"white-space:pre;overflow-x:auto;line-height:normal;font-family:Menlo,'DejaVu Sans Mono',consolas,'Courier New',monospace\"><span style=\"font-weight: bold\"> Trainable params: </span><span style=\"color: #00af00; text-decoration-color: #00af00\">1,313,025</span> (5.01 MB)\n",
       "</pre>\n"
      ],
      "text/plain": [
       "\u001b[1m Trainable params: \u001b[0m\u001b[38;5;34m1,313,025\u001b[0m (5.01 MB)\n"
      ]
     },
     "metadata": {},
     "output_type": "display_data"
    },
    {
     "data": {
      "text/html": [
       "<pre style=\"white-space:pre;overflow-x:auto;line-height:normal;font-family:Menlo,'DejaVu Sans Mono',consolas,'Courier New',monospace\"><span style=\"font-weight: bold\"> Non-trainable params: </span><span style=\"color: #00af00; text-decoration-color: #00af00\">0</span> (0.00 B)\n",
       "</pre>\n"
      ],
      "text/plain": [
       "\u001b[1m Non-trainable params: \u001b[0m\u001b[38;5;34m0\u001b[0m (0.00 B)\n"
      ]
     },
     "metadata": {},
     "output_type": "display_data"
    },
    {
     "data": {
      "text/html": [
       "<pre style=\"white-space:pre;overflow-x:auto;line-height:normal;font-family:Menlo,'DejaVu Sans Mono',consolas,'Courier New',monospace\"><span style=\"font-weight: bold\"> Optimizer params: </span><span style=\"color: #00af00; text-decoration-color: #00af00\">2</span> (12.00 B)\n",
       "</pre>\n"
      ],
      "text/plain": [
       "\u001b[1m Optimizer params: \u001b[0m\u001b[38;5;34m2\u001b[0m (12.00 B)\n"
      ]
     },
     "metadata": {},
     "output_type": "display_data"
    }
   ],
   "source": [
    "# Load the pre-trained model with ReLU activation\n",
    "model = load_model('simple_rnn2_imdb.h5')\n",
    "model.summary()"
   ]
  },
  {
   "cell_type": "code",
   "execution_count": 17,
   "metadata": {},
   "outputs": [
    {
     "data": {
      "text/plain": [
       "[array([[ 0.18014237,  0.32023042, -0.22169337, ..., -0.22734538,\n",
       "         -0.24849243,  0.29636025],\n",
       "        [ 0.05409965,  0.01558775, -0.06625468, ..., -0.02016505,\n",
       "          0.03926579,  0.03169135],\n",
       "        [-0.01157883,  0.04589283, -0.06428891, ...,  0.00504255,\n",
       "         -0.04455633,  0.04088745],\n",
       "        ...,\n",
       "        [ 0.12795804, -0.13793512,  0.07496215, ...,  0.12217916,\n",
       "          0.0749376 ,  0.0661331 ],\n",
       "        [ 0.06410329,  0.05320178, -0.01302211, ...,  0.00444969,\n",
       "          0.03282445, -0.01292704],\n",
       "        [ 0.11194908, -0.19969092,  0.16806358, ...,  0.17202966,\n",
       "          0.19437568,  0.11631562]], dtype=float32),\n",
       " array([[-0.0481388 ,  0.00975505,  0.03713704, ..., -0.00657105,\n",
       "         -0.07951739,  0.00161035],\n",
       "        [-0.0831876 ,  0.0154347 , -0.10836978, ..., -0.04305551,\n",
       "         -0.14546503,  0.00212919],\n",
       "        [ 0.14524257,  0.10333066, -0.01262973, ...,  0.17646654,\n",
       "          0.01964477, -0.1420243 ],\n",
       "        ...,\n",
       "        [-0.1345164 , -0.00845335, -0.11142843, ...,  0.1406095 ,\n",
       "         -0.05436161,  0.13217282],\n",
       "        [ 0.16017932, -0.16728024,  0.13075733, ...,  0.13842075,\n",
       "         -0.04720967,  0.08598832],\n",
       "        [ 0.02010804,  0.05278514, -0.12837546, ...,  0.06933706,\n",
       "         -0.08236696,  0.009579  ]], dtype=float32),\n",
       " array([[ 0.02200576, -0.08211864, -0.0358384 , ..., -0.07438047,\n",
       "         -0.17525004, -0.02009603],\n",
       "        [ 0.10192719,  0.19011207,  0.06380875, ...,  0.11355241,\n",
       "         -0.03864396, -0.23256198],\n",
       "        [ 0.10866043,  0.08589808,  0.11705069, ...,  0.08727714,\n",
       "         -0.10660803, -0.08078053],\n",
       "        ...,\n",
       "        [-0.0537558 , -0.21271092, -0.0307536 , ..., -0.27172974,\n",
       "         -0.01766202, -0.04319605],\n",
       "        [-0.13062501,  0.09235805, -0.00694322, ..., -0.01568527,\n",
       "         -0.01072639, -0.09201023],\n",
       "        [-0.05844093,  0.06471468, -0.11084582, ..., -0.00092821,\n",
       "         -0.0997666 , -0.02009246]], dtype=float32),\n",
       " array([ 5.42371115e-03,  1.00804493e-02,  5.81746642e-03, -1.52246393e-02,\n",
       "        -9.41653037e-04,  2.02326775e-02, -1.80233847e-02, -7.99978327e-04,\n",
       "        -3.66901164e-03, -6.29890617e-03, -5.83850360e-03,  2.95361765e-02,\n",
       "        -6.87396061e-03, -1.68457069e-02, -1.67955495e-02, -2.38550939e-02,\n",
       "         3.02607939e-03, -9.86181083e-04, -8.01949017e-03,  8.87482369e-04,\n",
       "         1.78098865e-02,  5.53373760e-03,  6.15258468e-04,  1.13979280e-02,\n",
       "        -1.58848781e-02, -6.46026665e-03,  9.67233442e-03,  3.56593402e-03,\n",
       "        -1.39966654e-02,  8.16173293e-03, -1.70638021e-02, -5.34351543e-03,\n",
       "        -2.48274789e-03, -1.50919044e-02, -1.28458180e-02,  3.92836099e-03,\n",
       "        -2.31868178e-02,  1.98151506e-02,  1.47328768e-02, -9.63163748e-03,\n",
       "         2.58958414e-02, -4.68664151e-03, -2.68704705e-02, -1.22634452e-02,\n",
       "         2.68572085e-02,  3.48386206e-02, -2.01102290e-02, -1.67699822e-03,\n",
       "         1.21592944e-02,  1.12926245e-04,  7.09636137e-03,  1.46741550e-02,\n",
       "         1.46745117e-02, -2.23008506e-02, -9.55805369e-03,  6.34085108e-03,\n",
       "        -7.78503157e-03,  1.37752772e-03, -1.19546782e-02, -1.56747270e-02,\n",
       "         2.17236076e-02, -3.69050773e-04,  1.51152266e-02,  7.44959265e-02,\n",
       "         1.78741086e-02, -9.70939454e-03, -1.45862410e-02,  5.45755145e-04,\n",
       "         4.44637705e-03,  8.05431884e-03, -1.34324236e-02,  2.90451444e-05,\n",
       "         2.57542282e-02,  1.00482104e-03,  3.91328009e-03,  5.12956940e-02,\n",
       "        -3.72043857e-03,  1.62570607e-02,  7.46642053e-03,  6.97487639e-03,\n",
       "        -3.55415023e-03, -1.18773310e-02,  3.05900518e-02, -1.06690368e-02,\n",
       "         2.43302006e-02,  1.72115490e-02,  1.49287528e-03,  1.39183737e-02,\n",
       "        -1.27936648e-02,  4.94791344e-02, -7.68217398e-03, -1.79387629e-02,\n",
       "        -1.49965156e-02,  1.38422474e-02,  1.62237836e-03, -1.54190296e-02,\n",
       "        -1.37011586e-02, -3.96230817e-03,  4.60161828e-03, -3.63756577e-03,\n",
       "        -4.63052187e-03, -2.71336432e-03, -2.78466265e-03,  9.69575159e-03,\n",
       "        -9.52482875e-03, -8.34233500e-03, -3.40445340e-03, -1.58553012e-02,\n",
       "        -2.51127011e-03,  5.33417240e-03,  8.47233180e-03,  2.77420320e-02,\n",
       "        -2.12084316e-02, -7.91702792e-03,  7.28339562e-03,  1.69755367e-03,\n",
       "        -2.19700206e-02, -6.32644678e-03, -8.94550700e-03, -1.60848014e-02,\n",
       "         1.20087294e-02, -4.10971884e-03,  5.28699486e-03, -4.68452182e-03,\n",
       "        -1.00430176e-02, -8.86989292e-03, -1.44010969e-02, -2.48114783e-02],\n",
       "       dtype=float32),\n",
       " array([[ 0.11642685],\n",
       "        [-0.29355556],\n",
       "        [ 0.02091782],\n",
       "        [ 0.11663623],\n",
       "        [ 0.40867376],\n",
       "        [-0.07259595],\n",
       "        [-0.00446606],\n",
       "        [ 0.68258524],\n",
       "        [ 0.48830938],\n",
       "        [ 0.10857263],\n",
       "        [-0.19740032],\n",
       "        [-0.34261805],\n",
       "        [-0.06066019],\n",
       "        [ 0.08307901],\n",
       "        [ 0.0387404 ],\n",
       "        [ 0.14773059],\n",
       "        [ 0.04744644],\n",
       "        [-0.11263718],\n",
       "        [ 0.14852123],\n",
       "        [-0.06807641],\n",
       "        [-0.05502072],\n",
       "        [-0.21307155],\n",
       "        [-0.4167569 ],\n",
       "        [-0.16546373],\n",
       "        [ 0.734017  ],\n",
       "        [ 0.19294256],\n",
       "        [-0.47971302],\n",
       "        [ 0.08960369],\n",
       "        [ 0.01140883],\n",
       "        [-0.18774739],\n",
       "        [ 0.17989518],\n",
       "        [ 0.01876836],\n",
       "        [-0.18539599],\n",
       "        [-0.4802627 ],\n",
       "        [-0.06072429],\n",
       "        [-0.03227852],\n",
       "        [-0.02804642],\n",
       "        [ 0.03465307],\n",
       "        [-0.9296759 ],\n",
       "        [-0.13605805],\n",
       "        [-0.2885193 ],\n",
       "        [ 0.28137332],\n",
       "        [ 0.03497953],\n",
       "        [ 0.09170527],\n",
       "        [-0.06513574],\n",
       "        [-0.39004275],\n",
       "        [ 0.10280905],\n",
       "        [-0.08922125],\n",
       "        [-0.40879956],\n",
       "        [ 0.31075618],\n",
       "        [ 0.19012326],\n",
       "        [ 0.01877601],\n",
       "        [ 0.03270426],\n",
       "        [ 0.4738616 ],\n",
       "        [ 0.10789352],\n",
       "        [-0.22580333],\n",
       "        [-0.07373741],\n",
       "        [-0.00389751],\n",
       "        [ 0.16461678],\n",
       "        [-0.19273433],\n",
       "        [-0.28480124],\n",
       "        [ 0.09258913],\n",
       "        [-0.22344685],\n",
       "        [ 0.56266147],\n",
       "        [-0.05708704],\n",
       "        [ 0.12834013],\n",
       "        [ 0.11148997],\n",
       "        [ 0.04462323],\n",
       "        [-0.1059657 ],\n",
       "        [ 0.04093046],\n",
       "        [ 0.06831134],\n",
       "        [-0.10908749],\n",
       "        [-0.05599009],\n",
       "        [ 0.3250477 ],\n",
       "        [-0.161537  ],\n",
       "        [ 0.49535784],\n",
       "        [-0.14178355],\n",
       "        [ 0.66780597],\n",
       "        [ 0.14096117],\n",
       "        [-0.16356955],\n",
       "        [-0.10824648],\n",
       "        [ 0.03620607],\n",
       "        [-0.28452218],\n",
       "        [ 0.07321727],\n",
       "        [-0.19576916],\n",
       "        [-0.0576655 ],\n",
       "        [-0.42525434],\n",
       "        [ 0.47642943],\n",
       "        [-0.16165274],\n",
       "        [ 0.6983672 ],\n",
       "        [ 0.2138389 ],\n",
       "        [ 0.08799781],\n",
       "        [ 0.00812013],\n",
       "        [ 0.16867627],\n",
       "        [ 0.60816133],\n",
       "        [ 0.15356763],\n",
       "        [ 0.1543503 ],\n",
       "        [ 0.03770524],\n",
       "        [ 0.4906528 ],\n",
       "        [ 0.07158537],\n",
       "        [ 0.20705627],\n",
       "        [-0.10720865],\n",
       "        [ 0.17811957],\n",
       "        [-0.48571914],\n",
       "        [-0.0366708 ],\n",
       "        [ 0.12442176],\n",
       "        [ 0.16490795],\n",
       "        [ 0.05755695],\n",
       "        [-0.45577002],\n",
       "        [-0.02482876],\n",
       "        [-0.4229196 ],\n",
       "        [-0.3484344 ],\n",
       "        [ 0.0215087 ],\n",
       "        [ 0.56714946],\n",
       "        [-0.04599521],\n",
       "        [ 0.21526264],\n",
       "        [ 0.2141524 ],\n",
       "        [ 0.17450716],\n",
       "        [ 0.04897357],\n",
       "        [-0.07641947],\n",
       "        [-0.06462976],\n",
       "        [-0.0534189 ],\n",
       "        [-0.192837  ],\n",
       "        [ 0.0905659 ],\n",
       "        [ 0.18050085],\n",
       "        [ 0.10645899],\n",
       "        [-0.15511473],\n",
       "        [ 0.38839623]], dtype=float32),\n",
       " array([0.3280268], dtype=float32)]"
      ]
     },
     "execution_count": 17,
     "metadata": {},
     "output_type": "execute_result"
    }
   ],
   "source": [
    "model.get_weights()"
   ]
  },
  {
   "cell_type": "code",
   "execution_count": 18,
   "metadata": {},
   "outputs": [],
   "source": [
    "# Step 2: Helper Functions\n",
    "# Function to decode reviews\n",
    "def decode_review(encoded_review):\n",
    "    return ' '.join([reverse_word_index.get(i - 3, '?') for i in encoded_review])\n",
    "\n",
    "# Function to preprocess user input\n",
    "def preprocess_text(text):\n",
    "    words = text.lower().split()\n",
    "    encoded_review = [word_index.get(word, 2) + 3 for word in words]\n",
    "    padded_review = sequence.pad_sequences([encoded_review], maxlen=500)\n",
    "    return padded_review"
   ]
  },
  {
   "cell_type": "code",
   "execution_count": 19,
   "metadata": {},
   "outputs": [],
   "source": [
    "### Prediction  function\n",
    "\n",
    "def predict_sentiment(review):\n",
    "    preprocessed_input=preprocess_text(review)\n",
    "\n",
    "    prediction=model.predict(preprocessed_input)\n",
    "\n",
    "    sentiment = 'Positive' if prediction[0][0] > 0.5 else 'Negative'\n",
    "    \n",
    "    return sentiment, prediction[0][0]\n"
   ]
  },
  {
   "cell_type": "code",
   "execution_count": 22,
   "metadata": {},
   "outputs": [
    {
     "name": "stdout",
     "output_type": "stream",
     "text": [
      "\u001b[1m1/1\u001b[0m \u001b[32m━━━━━━━━━━━━━━━━━━━━\u001b[0m\u001b[37m\u001b[0m \u001b[1m0s\u001b[0m 48ms/step\n",
      "Review: This movie was fantastic! The acting was great and the plot was thrilling and awesome.\n",
      "Sentiment: Positive\n",
      "Prediction Score: 0.6854289770126343\n"
     ]
    }
   ],
   "source": [
    "# Step 4: User Input and Prediction\n",
    "# Example review for prediction\n",
    "example_review = \"This movie was fantastic! The acting was great and the plot was thrilling and awesome.\"\n",
    "\n",
    "sentiment,score=predict_sentiment(example_review)\n",
    "\n",
    "print(f'Review: {example_review}')\n",
    "print(f'Sentiment: {sentiment}')\n",
    "print(f'Prediction Score: {score}')"
   ]
  },
  {
   "cell_type": "code",
   "execution_count": null,
   "metadata": {},
   "outputs": [],
   "source": []
  }
 ],
 "metadata": {
  "kernelspec": {
   "display_name": "Python 3",
   "language": "python",
   "name": "python3"
  },
  "language_info": {
   "codemirror_mode": {
    "name": "ipython",
    "version": 3
   },
   "file_extension": ".py",
   "mimetype": "text/x-python",
   "name": "python",
   "nbconvert_exporter": "python",
   "pygments_lexer": "ipython3",
   "version": "3.11.0"
  }
 },
 "nbformat": 4,
 "nbformat_minor": 2
}
